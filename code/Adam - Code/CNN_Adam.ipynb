{
  "cells": [
    {
      "cell_type": "code",
      "execution_count": null,
      "metadata": {
        "colab": {
          "base_uri": "https://localhost:8080/"
        },
        "id": "UkSyHNbjWNtS",
        "outputId": "db41aa4b-999a-4b91-a182-c637640fc6f7"
      },
      "outputs": [
        {
          "output_type": "stream",
          "name": "stdout",
          "text": [
            "Requirement already satisfied: torch in /usr/local/lib/python3.12/dist-packages (2.8.0+cu126)\n",
            "Requirement already satisfied: torchvision in /usr/local/lib/python3.12/dist-packages (0.23.0+cu126)\n",
            "Requirement already satisfied: matplotlib in /usr/local/lib/python3.12/dist-packages (3.10.0)\n",
            "Requirement already satisfied: filelock in /usr/local/lib/python3.12/dist-packages (from torch) (3.20.0)\n",
            "Requirement already satisfied: typing-extensions>=4.10.0 in /usr/local/lib/python3.12/dist-packages (from torch) (4.15.0)\n",
            "Requirement already satisfied: setuptools in /usr/local/lib/python3.12/dist-packages (from torch) (75.2.0)\n",
            "Requirement already satisfied: sympy>=1.13.3 in /usr/local/lib/python3.12/dist-packages (from torch) (1.13.3)\n",
            "Requirement already satisfied: networkx in /usr/local/lib/python3.12/dist-packages (from torch) (3.5)\n",
            "Requirement already satisfied: jinja2 in /usr/local/lib/python3.12/dist-packages (from torch) (3.1.6)\n",
            "Requirement already satisfied: fsspec in /usr/local/lib/python3.12/dist-packages (from torch) (2025.3.0)\n",
            "Requirement already satisfied: nvidia-cuda-nvrtc-cu12==12.6.77 in /usr/local/lib/python3.12/dist-packages (from torch) (12.6.77)\n",
            "Requirement already satisfied: nvidia-cuda-runtime-cu12==12.6.77 in /usr/local/lib/python3.12/dist-packages (from torch) (12.6.77)\n",
            "Requirement already satisfied: nvidia-cuda-cupti-cu12==12.6.80 in /usr/local/lib/python3.12/dist-packages (from torch) (12.6.80)\n",
            "Requirement already satisfied: nvidia-cudnn-cu12==9.10.2.21 in /usr/local/lib/python3.12/dist-packages (from torch) (9.10.2.21)\n",
            "Requirement already satisfied: nvidia-cublas-cu12==12.6.4.1 in /usr/local/lib/python3.12/dist-packages (from torch) (12.6.4.1)\n",
            "Requirement already satisfied: nvidia-cufft-cu12==11.3.0.4 in /usr/local/lib/python3.12/dist-packages (from torch) (11.3.0.4)\n",
            "Requirement already satisfied: nvidia-curand-cu12==10.3.7.77 in /usr/local/lib/python3.12/dist-packages (from torch) (10.3.7.77)\n",
            "Requirement already satisfied: nvidia-cusolver-cu12==11.7.1.2 in /usr/local/lib/python3.12/dist-packages (from torch) (11.7.1.2)\n",
            "Requirement already satisfied: nvidia-cusparse-cu12==12.5.4.2 in /usr/local/lib/python3.12/dist-packages (from torch) (12.5.4.2)\n",
            "Requirement already satisfied: nvidia-cusparselt-cu12==0.7.1 in /usr/local/lib/python3.12/dist-packages (from torch) (0.7.1)\n",
            "Requirement already satisfied: nvidia-nccl-cu12==2.27.3 in /usr/local/lib/python3.12/dist-packages (from torch) (2.27.3)\n",
            "Requirement already satisfied: nvidia-nvtx-cu12==12.6.77 in /usr/local/lib/python3.12/dist-packages (from torch) (12.6.77)\n",
            "Requirement already satisfied: nvidia-nvjitlink-cu12==12.6.85 in /usr/local/lib/python3.12/dist-packages (from torch) (12.6.85)\n",
            "Requirement already satisfied: nvidia-cufile-cu12==1.11.1.6 in /usr/local/lib/python3.12/dist-packages (from torch) (1.11.1.6)\n",
            "Requirement already satisfied: triton==3.4.0 in /usr/local/lib/python3.12/dist-packages (from torch) (3.4.0)\n",
            "Requirement already satisfied: numpy in /usr/local/lib/python3.12/dist-packages (from torchvision) (2.0.2)\n",
            "Requirement already satisfied: pillow!=8.3.*,>=5.3.0 in /usr/local/lib/python3.12/dist-packages (from torchvision) (11.3.0)\n",
            "Requirement already satisfied: contourpy>=1.0.1 in /usr/local/lib/python3.12/dist-packages (from matplotlib) (1.3.3)\n",
            "Requirement already satisfied: cycler>=0.10 in /usr/local/lib/python3.12/dist-packages (from matplotlib) (0.12.1)\n",
            "Requirement already satisfied: fonttools>=4.22.0 in /usr/local/lib/python3.12/dist-packages (from matplotlib) (4.60.1)\n",
            "Requirement already satisfied: kiwisolver>=1.3.1 in /usr/local/lib/python3.12/dist-packages (from matplotlib) (1.4.9)\n",
            "Requirement already satisfied: packaging>=20.0 in /usr/local/lib/python3.12/dist-packages (from matplotlib) (25.0)\n",
            "Requirement already satisfied: pyparsing>=2.3.1 in /usr/local/lib/python3.12/dist-packages (from matplotlib) (3.2.5)\n",
            "Requirement already satisfied: python-dateutil>=2.7 in /usr/local/lib/python3.12/dist-packages (from matplotlib) (2.9.0.post0)\n",
            "Requirement already satisfied: six>=1.5 in /usr/local/lib/python3.12/dist-packages (from python-dateutil>=2.7->matplotlib) (1.17.0)\n",
            "Requirement already satisfied: mpmath<1.4,>=1.1.0 in /usr/local/lib/python3.12/dist-packages (from sympy>=1.13.3->torch) (1.3.0)\n",
            "Requirement already satisfied: MarkupSafe>=2.0 in /usr/local/lib/python3.12/dist-packages (from jinja2->torch) (3.0.3)\n"
          ]
        }
      ],
      "source": [
        "!pip install torch torchvision matplotlib"
      ]
    },
    {
      "cell_type": "code",
      "execution_count": null,
      "metadata": {
        "id": "1OzRyYWKWTkc"
      },
      "outputs": [],
      "source": [
        "import torch\n",
        "import torch.nn as nn\n",
        "import torch.optim as optim\n",
        "from torchvision import datasets, transforms\n",
        "from torch.utils.data import random_split, DataLoader\n",
        "import matplotlib.pyplot as plt\n",
        "import torch.nn.functional as F\n",
        "from sklearn.metrics import confusion_matrix\n",
        "import seaborn as sns\n",
        "import numpy as np"
      ]
    },
    {
      "cell_type": "code",
      "execution_count": null,
      "metadata": {
        "colab": {
          "base_uri": "https://localhost:8080/"
        },
        "id": "vrb0O4SgWgxF",
        "outputId": "f49c91ab-0461-4938-a794-f4e02a0bbe18"
      },
      "outputs": [
        {
          "output_type": "stream",
          "name": "stdout",
          "text": [
            "Using device: cuda\n"
          ]
        }
      ],
      "source": [
        "device = torch.device(\"cuda\" if torch.cuda.is_available() else \"cpu\")\n",
        "print(f\"Using device: {device}\")"
      ]
    },
    {
      "cell_type": "code",
      "execution_count": null,
      "metadata": {
        "id": "1nJT1W0OXPWB"
      },
      "outputs": [],
      "source": [
        "transform = transforms.Compose([\n",
        "    transforms.ToTensor(),\n",
        "    transforms.Normalize((0.5,), (0.5,))\n",
        "])"
      ]
    },
    {
      "cell_type": "code",
      "execution_count": null,
      "metadata": {
        "id": "MfT_mS3TX8Ac"
      },
      "outputs": [],
      "source": [
        "full_dataset = datasets.MNIST(root=\"./data\", train=True, download=True, transform=transform)"
      ]
    },
    {
      "cell_type": "code",
      "execution_count": null,
      "metadata": {
        "colab": {
          "base_uri": "https://localhost:8080/",
          "height": 192
        },
        "id": "4_D2Fk3BYCyt",
        "outputId": "64eb31f3-5756-4b2c-c227-016338d2e0d0"
      },
      "outputs": [
        {
          "output_type": "display_data",
          "data": {
            "text/plain": [
              "<Figure size 1000x200 with 5 Axes>"
            ],
            "image/png": "[encoded data removed]"
          },
          "metadata": {}
        }
      ],
      "source": [
        "fig, axes = plt.subplots(1, 5, figsize=(10, 2))\n",
        "\n",
        "for i in range(5):\n",
        "    image, label = full_dataset[i]\n",
        "    image = image.squeeze()  # remove channel dimension -> (28, 28)\n",
        "    axes[i].imshow(image, cmap=\"gray\")\n",
        "    axes[i].set_title(f\"Label: {label}\")\n",
        "    axes[i].axis(\"off\")\n",
        "\n",
        "plt.show()"
      ]
    },
    {
      "cell_type": "code",
      "execution_count": null,
      "metadata": {
        "id": "0iXNEkrcY9pR"
      },
      "outputs": [],
      "source": [
        "train_size = int(0.7 * len(full_dataset))\n",
        "val_size = int(0.15 * len(full_dataset))\n",
        "test_size = len(full_dataset) - train_size - val_size\n",
        "train_dataset, val_dataset, test_dataset = random_split(full_dataset, [train_size, val_size, test_size])"
      ]
    },
    {
      "cell_type": "code",
      "execution_count": null,
      "metadata": {
        "id": "8Ks2YXL5ZrOw"
      },
      "outputs": [],
      "source": [
        "train_loader = DataLoader(train_dataset, batch_size=64, shuffle=True)\n",
        "val_loader   = DataLoader(val_dataset, batch_size=64, shuffle=False)\n",
        "test_loader  = DataLoader(test_dataset, batch_size=64, shuffle=False)"
      ]
    },
    {
      "cell_type": "code",
      "execution_count": null,
      "metadata": {
        "colab": {
          "base_uri": "https://localhost:8080/"
        },
        "id": "SuTSm22NaFW4",
        "outputId": "f5f0de9b-6945-47b8-f28b-636395844148"
      },
      "outputs": [
        {
          "output_type": "stream",
          "name": "stdout",
          "text": [
            "Dataset sizes ➜ Train: 42000, Val: 9000, Test: 9000\n"
          ]
        }
      ],
      "source": [
        "print(f\"Dataset sizes ➜ Train: {len(train_dataset)}, Val: {len(val_dataset)}, Test: {len(test_dataset)}\")"
      ]
    },
    {
      "cell_type": "code",
      "execution_count": null,
      "metadata": {
        "colab": {
          "base_uri": "https://localhost:8080/"
        },
        "id": "qyjxiDF6aIot",
        "outputId": "36d2f677-c62c-4fb1-ed4e-f95470455e46"
      },
      "outputs": [
        {
          "output_type": "stream",
          "name": "stdout",
          "text": [
            "CNNModel(\n",
            "  (conv1): Conv2d(1, 32, kernel_size=(3, 3), stride=(1, 1))\n",
            "  (pool1): MaxPool2d(kernel_size=2, stride=2, padding=0, dilation=1, ceil_mode=False)\n",
            "  (conv2): Conv2d(32, 64, kernel_size=(3, 3), stride=(1, 1))\n",
            "  (pool2): MaxPool2d(kernel_size=2, stride=2, padding=0, dilation=1, ceil_mode=False)\n",
            "  (fc1): Linear(in_features=1600, out_features=128, bias=True)\n",
            "  (dropout): Dropout(p=0.5, inplace=False)\n",
            "  (fc2): Linear(in_features=128, out_features=10, bias=True)\n",
            ")\n"
          ]
        }
      ],
      "source": [
        "class CNNModel(nn.Module):\n",
        "    def __init__(self, x1=32, m1=3, x2=64, m2=3, x3=128, d=0.5, K=10):\n",
        "        super(CNNModel, self).__init__()\n",
        "\n",
        "        # 1st Convolutional layer\n",
        "        self.conv1 = nn.Conv2d(in_channels=1, out_channels=x1, kernel_size=m1)\n",
        "        # 1st Max Pooling layer\n",
        "        self.pool1 = nn.MaxPool2d(kernel_size=2, stride=2)\n",
        "\n",
        "        # 2nd Convolutional layer\n",
        "        self.conv2 = nn.Conv2d(in_channels=x1, out_channels=x2, kernel_size=m2)\n",
        "        # 2nd Max Pooling layer\n",
        "        self.pool2 = nn.MaxPool2d(kernel_size=2, stride=2)\n",
        "\n",
        "        # Fully Connected layer\n",
        "        self.fc1 = nn.Linear(x2 * 5 * 5, x3)  # 28x28 → conv+pool reduce to 5x5\n",
        "        self.dropout = nn.Dropout(d)\n",
        "        # Output layer\n",
        "        self.fc2 = nn.Linear(x3, K)\n",
        "\n",
        "    def forward(self, x):\n",
        "        # Convolution + ReLU + Pooling\n",
        "        x = self.pool1(F.relu(self.conv1(x)))\n",
        "        x = self.pool2(F.relu(self.conv2(x)))\n",
        "\n",
        "        # Flatten\n",
        "        x = x.view(x.size(0), -1)\n",
        "\n",
        "        # Fully connected + Dropout + Output\n",
        "        x = F.relu(self.fc1(x))\n",
        "        x = self.dropout(x)\n",
        "        x = self.fc2(x)\n",
        "\n",
        "        # Softmax for classification\n",
        "        return F.log_softmax(x, dim=1)\n",
        "\n",
        "# Instantiate the model\n",
        "model = CNNModel().to(device)\n",
        "print(model)\n"
      ]
    },
    {
      "cell_type": "code",
      "execution_count": null,
      "metadata": {
        "id": "yej8pfQshyfO"
      },
      "outputs": [],
      "source": [
        "criterion = nn.CrossEntropyLoss()\n",
        "optimizer = optim.Adam(model.parameters(), lr=1e-3)\n",
        "\n",
        "def run_epoch(loader, training: bool):\n",
        "    if training:\n",
        "        model.train()\n",
        "    else:\n",
        "        model.eval()\n",
        "    epoch_loss = 0.0\n",
        "    correct = 0\n",
        "    total = 0\n",
        "    with torch.set_grad_enabled(training):\n",
        "        for xb, yb in loader:\n",
        "            xb, yb = xb.to(device), yb.to(device)\n",
        "            if training:\n",
        "                optimizer.zero_grad()\n",
        "            logits = model(xb)\n",
        "            loss = criterion(logits, yb)\n",
        "            if training:\n",
        "                loss.backward()\n",
        "                optimizer.step()\n",
        "            epoch_loss += loss.item() * xb.size(0)\n",
        "            preds = logits.argmax(dim=1)\n",
        "            correct += (preds == yb).sum().item()\n",
        "            total += xb.size(0)\n",
        "    return epoch_loss / total, correct / total\n",
        "\n",
        "num_epochs = 20\n",
        "train_losses, val_losses = [], []\n",
        "train_accs, val_accs = [], []"
      ]
    },
    {
      "cell_type": "code",
      "execution_count": null,
      "metadata": {
        "id": "9CGbeo85iMKT",
        "colab": {
          "base_uri": "https://localhost:8080/",
          "height": 772
        },
        "outputId": "8ac59775-6071-4e3f-fdfe-7b0e3d4ea92a"
      },
      "outputs": [
        {
          "output_type": "stream",
          "name": "stdout",
          "text": [
            "Epoch 01/20 | Train Loss: 0.2780 Acc: 91.43% | Val Loss: 0.0662 Acc: 97.94%\n",
            "Epoch 02/20 | Train Loss: 0.0953 Acc: 97.17% | Val Loss: 0.0584 Acc: 98.28%\n",
            "Epoch 03/20 | Train Loss: 0.0730 Acc: 97.83% | Val Loss: 0.0514 Acc: 98.36%\n",
            "Epoch 04/20 | Train Loss: 0.0582 Acc: 98.19% | Val Loss: 0.0390 Acc: 98.88%\n",
            "Epoch 05/20 | Train Loss: 0.0473 Acc: 98.55% | Val Loss: 0.0527 Acc: 98.52%\n",
            "Epoch 06/20 | Train Loss: 0.0418 Acc: 98.69% | Val Loss: 0.0444 Acc: 98.91%\n",
            "Epoch 07/20 | Train Loss: 0.0363 Acc: 98.90% | Val Loss: 0.0443 Acc: 98.97%\n",
            "Epoch 08/20 | Train Loss: 0.0330 Acc: 98.94% | Val Loss: 0.0516 Acc: 98.80%\n",
            "Epoch 09/20 | Train Loss: 0.0295 Acc: 99.05% | Val Loss: 0.0343 Acc: 99.09%\n",
            "Epoch 10/20 | Train Loss: 0.0272 Acc: 99.17% | Val Loss: 0.0393 Acc: 99.21%\n",
            "Epoch 11/20 | Train Loss: 0.0237 Acc: 99.25% | Val Loss: 0.0415 Acc: 99.04%\n",
            "Epoch 12/20 | Train Loss: 0.0240 Acc: 99.19% | Val Loss: 0.0387 Acc: 99.16%\n",
            "Epoch 13/20 | Train Loss: 0.0184 Acc: 99.39% | Val Loss: 0.0428 Acc: 99.18%\n",
            "Epoch 14/20 | Train Loss: 0.0200 Acc: 99.37% | Val Loss: 0.0425 Acc: 99.02%\n",
            "Epoch 15/20 | Train Loss: 0.0196 Acc: 99.39% | Val Loss: 0.0373 Acc: 99.17%\n",
            "Epoch 16/20 | Train Loss: 0.0166 Acc: 99.47% | Val Loss: 0.0497 Acc: 99.14%\n",
            "Epoch 17/20 | Train Loss: 0.0163 Acc: 99.48% | Val Loss: 0.0459 Acc: 99.10%\n",
            "Epoch 18/20 | Train Loss: 0.0156 Acc: 99.48% | Val Loss: 0.0516 Acc: 99.12%\n",
            "Epoch 19/20 | Train Loss: 0.0162 Acc: 99.45% | Val Loss: 0.0464 Acc: 99.08%\n",
            "Epoch 20/20 | Train Loss: 0.0139 Acc: 99.55% | Val Loss: 0.0490 Acc: 99.10%\n"
          ]
        },
        {
          "output_type": "display_data",
          "data": {
            "text/plain": [
              "<Figure size 600x400 with 1 Axes>"
            ],
            "image/png": "[encoded data removed]"
          },
          "metadata": {}
        }
      ],
      "source": [
        "for epoch in range(1, num_epochs + 1):\n",
        "    tr_loss, tr_acc = run_epoch(train_loader, training=True)\n",
        "    va_loss, va_acc = run_epoch(val_loader,   training=False)\n",
        "\n",
        "    train_losses.append(tr_loss); val_losses.append(va_loss)\n",
        "    train_accs.append(tr_acc);   val_accs.append(va_acc)\n",
        "\n",
        "    print(f\"Epoch {epoch:02d}/{num_epochs} \"\n",
        "          f\"| Train Loss: {tr_loss:.4f} Acc: {tr_acc*100:5.2f}% \"\n",
        "          f\"| Val Loss: {va_loss:.4f} Acc: {va_acc*100:5.2f}%\")\n",
        "\n",
        "# Plot training & validation loss vs epoch (Q7)\n",
        "plt.figure(figsize=(6,4))\n",
        "plt.plot(range(1, num_epochs+1), train_losses, label=\"Train Loss\")\n",
        "plt.plot(range(1, num_epochs+1), val_losses,   label=\"Val Loss\")\n",
        "plt.xlabel(\"Epoch\")\n",
        "plt.ylabel(\"Loss\")\n",
        "plt.title(\"Training & Validation Loss (UCI Digits)\")\n",
        "plt.legend()\n",
        "plt.tight_layout()\n",
        "plt.show()"
      ]
    },
    {
      "cell_type": "code",
      "execution_count": null,
      "metadata": {
        "id": "dVR9rTs5iNHy"
      },
      "outputs": [],
      "source": [
        "def evaluate_model(model, test_loader, model_name=\"Model\"):\n",
        "    model.eval()\n",
        "    preds, targets = [], []\n",
        "    total_loss = 0.0\n",
        "    criterion = nn.CrossEntropyLoss()\n",
        "\n",
        "    with torch.no_grad():\n",
        "        for images, labels in test_loader:\n",
        "            images, labels = images.to(device), labels.to(device)\n",
        "            outputs = model(images)\n",
        "            loss = criterion(outputs, labels)\n",
        "            total_loss += loss.item()\n",
        "\n",
        "            _, predicted = torch.max(outputs, 1)\n",
        "            preds.extend(predicted.cpu().numpy())\n",
        "            targets.extend(labels.cpu().numpy())\n",
        "\n",
        "    preds = np.array(preds)\n",
        "    targets = np.array(targets)\n",
        "\n",
        "    test_loss = total_loss / len(test_loader)\n",
        "    accuracy = accuracy_score(targets, preds)\n",
        "    precision = precision_score(targets, preds, average='weighted')\n",
        "    recall = recall_score(targets, preds, average='weighted')\n",
        "    f1 = f1_score(targets, preds, average='weighted')\n",
        "\n",
        "    print(f\"\\n📊 Performance Metrics for {model_name}:\")\n",
        "    print(f\"Test Loss     : {test_loss:.4f}\")\n",
        "    print(f\"Accuracy      : {accuracy*100:.2f}%\")\n",
        "    print(f\"Precision     : {precision:.4f}\")\n",
        "    print(f\"Recall        : {recall:.4f}\")\n",
        "    print(f\"F1 Score      : {f1:.4f}\")\n",
        "\n",
        "    print(\"\\nDetailed Classification Report:\")\n",
        "    print(classification_report(targets, preds, digits=4))\n",
        "\n",
        "    cm = confusion_matrix(targets, preds)\n",
        "    plt.figure(figsize=(8,6))\n",
        "    sns.heatmap(cm, annot=True, fmt='d', cmap='Blues', cbar=False)\n",
        "    plt.title(f\"{model_name} - Confusion Matrix\")\n",
        "    plt.xlabel(\"Predicted Labels\")\n",
        "    plt.ylabel(\"True Labels\")\n",
        "    plt.show()\n",
        "\n",
        "    return accuracy, precision, recall, f1, test_loss\n",
        "\n",
        "    evaluate_model(model, test_loader, model_name=\"CNN Model\")"
      ]
    },
    {
      "cell_type": "code",
      "execution_count": null,
      "metadata": {
        "id": "9yN0OXPjtULH"
      },
      "outputs": [],
      "source": []
    }
  ],
  "metadata": {
    "accelerator": "GPU",
    "colab": {
      "gpuType": "T4",
      "provenance": []
    },
    "kernelspec": {
      "display_name": "Python 3",
      "name": "python3"
    },
    "language_info": {
      "name": "python"
    }
  },
  "nbformat": 4,
  "nbformat_minor": 0
}